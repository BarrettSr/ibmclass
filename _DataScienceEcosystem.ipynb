{
 "cells": [
  {
   "cell_type": "markdown",
   "id": "c6c63ea0-e88e-4c88-96af-a886b1c536ba",
   "metadata": {},
   "source": [
    "# Data Science Tools and Ecosystem "
   ]
  },
  {
   "cell_type": "markdown",
   "id": "0337d321-6df7-41f7-b3df-78d1906a695c",
   "metadata": {},
   "source": [
    "In this notebook, Data Science Tools and Ecosystem are summarized."
   ]
  },
  {
   "cell_type": "markdown",
   "id": "cb04299f-15bf-416e-a20b-f271a8b0dd92",
   "metadata": {},
   "source": [
    "**Objectives:**\n",
    "* open source tools to use\n",
    "* cloud based tools to use\n",
    "* how to use git\n",
    "* github creation and use\n"
   ]
  },
  {
   "cell_type": "markdown",
   "id": "812f5724-4471-4f55-af24-f04faf05db25",
   "metadata": {},
   "source": [
    "Some of the popular languages that Data Scientists use are:\n",
    "1. Python \n",
    "2. R language \n",
    "3. SQL\n",
    "4. Java"
   ]
  },
  {
   "cell_type": "markdown",
   "id": "4a6dd652-14a2-4911-85e8-a8b71aa26a57",
   "metadata": {},
   "source": [
    "Some of the commonly used libraries used by Data Scientists include:\n",
    "1. Panda\n",
    "2. ggplot2\n",
    "3. NumPy\n",
    "4. keras\n"
   ]
  },
  {
   "cell_type": "markdown",
   "id": "f7396c82-e506-49fd-9df4-243af6441dd9",
   "metadata": {},
   "source": [
    "| Data Science tools |\n",
    "| ------------------ |\n",
    "| Git |\n",
    "| MySQL |\n",
    "| Jupyter Lab |\n"
   ]
  },
  {
   "cell_type": "markdown",
   "id": "cb5954a0-9f43-4edc-b894-618c57179ef9",
   "metadata": {},
   "source": [
    "### Below are a few examples of evaluating arithmetic expressions in Python ###"
   ]
  },
  {
   "cell_type": "code",
   "execution_count": 6,
   "id": "43152163-8601-4ea7-95f6-323b13f8d932",
   "metadata": {},
   "outputs": [
    {
     "data": {
      "text/plain": [
       "17"
      ]
     },
     "execution_count": 6,
     "metadata": {},
     "output_type": "execute_result"
    }
   ],
   "source": [
    "# This a simple arithmetic expression to mutiply then add integers #\n",
    "(3*4)+5"
   ]
  },
  {
   "cell_type": "code",
   "execution_count": 18,
   "id": "355ff2ce-0917-4ef4-b7ca-3186181263d7",
   "metadata": {},
   "outputs": [
    {
     "data": {
      "text/plain": [
       "3.3333333333333335"
      ]
     },
     "execution_count": 18,
     "metadata": {},
     "output_type": "execute_result"
    }
   ],
   "source": [
    "# This will convert 200 minutes to hours by diving by 60 #\n",
    "minutes = 200\n",
    "hour = minutes / 60\n",
    "hour"
   ]
  },
  {
   "cell_type": "markdown",
   "id": "cda12460-14db-4e20-a196-f1f13bcdcc5d",
   "metadata": {},
   "source": [
    "## Author ##\n",
    "zhengdong yuan "
   ]
  },
  {
   "cell_type": "code",
   "execution_count": null,
   "id": "2595afa1-8008-4c90-b41b-773491c28a7b",
   "metadata": {},
   "outputs": [],
   "source": []
  }
 ],
 "metadata": {
  "kernelspec": {
   "display_name": "Python 3 (ipykernel)",
   "language": "python",
   "name": "python3"
  },
  "language_info": {
   "codemirror_mode": {
    "name": "ipython",
    "version": 3
   },
   "file_extension": ".py",
   "mimetype": "text/x-python",
   "name": "python",
   "nbconvert_exporter": "python",
   "pygments_lexer": "ipython3",
   "version": "3.11.7"
  }
 },
 "nbformat": 4,
 "nbformat_minor": 5
}
